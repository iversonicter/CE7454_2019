{
 "cells": [
  {
   "cell_type": "markdown",
   "metadata": {},
   "source": [
    "# Lab 05 : Advantageous Actor-Critic (A2C) - demo\n"
   ]
  },
  {
   "cell_type": "code",
   "execution_count": 1,
   "metadata": {},
   "outputs": [],
   "source": [
    "# For Google Colaboratory\n",
    "import sys, os\n",
    "if 'google.colab' in sys.modules:\n",
    "    from google.colab import drive\n",
    "    drive.mount('/content/gdrive')\n",
    "    file_name = 'A2C_actor_critic_demo.ipynb'\n",
    "    import subprocess\n",
    "    path_to_file = subprocess.check_output('find . -type f -name ' + str(file_name), shell=True).decode(\"utf-8\")\n",
    "    print(path_to_file)\n",
    "    path_to_file = path_to_file.replace(file_name,\"\").replace('\\n',\"\")\n",
    "    os.chdir(path_to_file)\n",
    "    !pwd"
   ]
  },
  {
   "cell_type": "code",
   "execution_count": 2,
   "metadata": {},
   "outputs": [],
   "source": [
    "\n",
    "import torch\n",
    "import torch.nn as nn\n",
    "torch.manual_seed(torch.randint(10000,())) # random seed for pythorch random generator\n",
    "\n",
    "import time\n",
    "import numpy as np\n",
    "\n",
    "import os\n",
    "import pickle\n",
    "\n",
    "import gym\n",
    "\n",
    "import matplotlib\n",
    "import matplotlib.pyplot as plt\n",
    "from IPython import display\n",
    "\n",
    "from collections import namedtuple\n",
    "import random\n",
    "from itertools import count\n",
    "\n",
    "class DotDict(dict):\n",
    "    def __init__(self, **kwds):\n",
    "        self.update(kwds)\n",
    "        self.__dict__ = self\n",
    "        "
   ]
  },
  {
   "cell_type": "markdown",
   "metadata": {},
   "source": [
    "# Dataset"
   ]
  },
  {
   "cell_type": "code",
   "execution_count": 3,
   "metadata": {},
   "outputs": [
    {
     "name": "stdout",
     "output_type": "stream",
     "text": [
      "init state: [ 0.03073904  0.00145001 -0.03088818 -0.03131252]\n",
      "t= 0 action= 0 state= [ 0.03077 -0.19322 -0.03151  0.25147] reward= 1.0 done= False\n",
      "t= 1 action= 0 state= [ 0.0269  -0.38787 -0.02649  0.53405] reward= 1.0 done= False\n",
      "t= 2 action= 1 state= [ 0.01915 -0.19239 -0.0158   0.23314] reward= 1.0 done= False\n",
      "t= 3 action= 0 state= [ 0.0153  -0.38728 -0.01114  0.52079] reward= 1.0 done= False\n",
      "t= 4 action= 1 state= [ 0.00755 -0.19201 -0.00073  0.22462] reward= 1.0 done= False\n",
      "t= 5 action= 0 state= [ 0.00371 -0.38712  0.00377  0.51707] reward= 1.0 done= False\n",
      "t= 6 action= 0 state= [-0.00403 -0.58229  0.01411  0.81094] reward= 1.0 done= False\n",
      "t= 7 action= 1 state= [-0.01568 -0.38737  0.03033  0.52273] reward= 1.0 done= False\n",
      "t= 8 action= 1 state= [-0.02342 -0.19268  0.04078  0.23975] reward= 1.0 done= False\n",
      "t= 9 action= 0 state= [-0.02728 -0.38836  0.04558  0.54502] reward= 1.0 done= False\n",
      "t= 10 action= 0 state= [-0.03504 -0.5841   0.05648  0.85171] reward= 1.0 done= False\n",
      "t= 11 action= 0 state= [-0.04673 -0.77994  0.07351  1.1616 ] reward= 1.0 done= False\n",
      "t= 12 action= 0 state= [-0.06232 -0.97594  0.09674  1.4764 ] reward= 1.0 done= False\n",
      "t= 13 action= 0 state= [-0.08184 -1.1721   0.12627  1.79766] reward= 1.0 done= False\n",
      "t= 14 action= 0 state= [-0.10529 -1.36839  0.16222  2.12677] reward= 1.0 done= False\n",
      "t= 15 action= 1 state= [-0.13265 -1.17521  0.20476  1.88829] reward= 1.0 done= False\n",
      "t= 16 action= 1 state= [-0.15616 -0.98282  0.24253  1.66551] reward= 1.0 done= True\n"
     ]
    }
   ],
   "source": [
    "\n",
    "#Env parameters\n",
    "env_seed = 1\n",
    "render = True # display on\n",
    "render = False # display off\n",
    "\n",
    "#Initialize the environment with the same seed/initialization value\n",
    "env = gym.make('CartPole-v0')\n",
    "env.seed(env_seed)\n",
    "\n",
    "#Reset the environment\n",
    "state = env.reset() \n",
    "print('init state:',state)\n",
    "\n",
    "#Rollout one episode until it finishes \n",
    "for t in count():  \n",
    "    action = torch.LongTensor(1).random_(0,2).item() # randomly generated action=a in {0,1}\n",
    "    state, reward, done, _ = env.step(action) # receive next state=s' and reward=r\n",
    "    print('t=',t, 'action=',action, 'state=',np.array_str(state, precision=5), 'reward=',reward, 'done=',done )\n",
    "    if render:\n",
    "        env.render() # see the state\n",
    "    if done:\n",
    "        break\n"
   ]
  },
  {
   "cell_type": "markdown",
   "metadata": {},
   "source": [
    "# Define the policy network"
   ]
  },
  {
   "cell_type": "code",
   "execution_count": 4,
   "metadata": {},
   "outputs": [
    {
     "name": "stdout",
     "output_type": "stream",
     "text": [
      "ActorCritic_NN(\n",
      "  (fc1_p): Linear(in_features=4, out_features=128, bias=True)\n",
      "  (fc2_p): Linear(in_features=128, out_features=2, bias=True)\n",
      "  (fc1_q_a): Linear(in_features=4, out_features=128, bias=True)\n",
      "  (fc2_q_a): Linear(in_features=128, out_features=2, bias=True)\n",
      "  (fc1_q_s): Linear(in_features=4, out_features=128, bias=True)\n",
      "  (fc2_q_s): Linear(in_features=128, out_features=1, bias=True)\n",
      ")\n",
      "batch_episode_lengths: [17, 29, 13]\n"
     ]
    }
   ],
   "source": [
    "\n",
    "# class of policy network\n",
    "class ActorCritic_NN(nn.Module): \n",
    "    \n",
    "    def __init__(self, net_parameters):\n",
    "        super(ActorCritic_NN, self).__init__()\n",
    "        input_dim = net_parameters['input_dim']\n",
    "        hidden_dim = net_parameters['hidden_dim']\n",
    "        output_dim = net_parameters['output_dim']\n",
    "        # policy network\n",
    "        self.fc1_p = nn.Linear(input_dim, hidden_dim)\n",
    "        self.fc2_p = nn.Linear(hidden_dim, output_dim)\n",
    "        # action-value function network\n",
    "        self.fc1_q_a = nn.Linear(input_dim, hidden_dim)\n",
    "        self.fc2_q_a = nn.Linear(hidden_dim, output_dim)\n",
    "        # state-value function network\n",
    "        self.fc1_q_s = nn.Linear(input_dim, hidden_dim)\n",
    "        self.fc2_q_s = nn.Linear(hidden_dim, 1)\n",
    "\n",
    "    def forward_policy(self, x):\n",
    "        x = torch.relu(self.fc1_p(x))\n",
    "        actions_score = self.fc2_p(x)\n",
    "        actions_prob = torch.softmax(actions_score, dim=1)\n",
    "        return actions_prob\n",
    "    \n",
    "    def forward_Q_a(self, x):\n",
    "        x = torch.relu(self.fc1_q_a(x))\n",
    "        Q_scores = self.fc2_q_a(x) # scores over actions \n",
    "        return Q_scores\n",
    "    \n",
    "    def forward_Q_s(self, x):\n",
    "        x = torch.relu(self.fc1_q_s(x))\n",
    "        Q_scores = self.fc2_q_s(x) # scores over actions \n",
    "        return Q_scores\n",
    "    \n",
    "    def select_action(self, state): # select action w/ policy network\n",
    "        probs = self.forward_policy(state) # probability of action a in state s\n",
    "        bernoulli_sampling = torch.distributions.Categorical(probs) \n",
    "        action = bernoulli_sampling.sample() # sample action a with Bernoulli sampling\n",
    "        return action\n",
    "\n",
    "    def loss(self, batch):\n",
    "        gamma = opt_parameters['gamma']\n",
    "        nb_episodes_per_batch = len(batch.states)\n",
    "        batch_losses = []\n",
    "        for episode in range(nb_episodes_per_batch):\n",
    "            episode_states = torch.stack( batch.states[episode] ).float() #size=B x 4     \n",
    "            episode_next_states = torch.stack( batch.next_states[episode] ).float() #size=B x 4  \n",
    "            episode_actions = torch.stack( batch.actions[episode] ).long() #size=B\n",
    "            episode_rewards = - torch.stack( batch.rewards[episode] ).float() #size=B\n",
    "            episode_dones = torch.stack( batch.dones[episode] ).float() #size=B\n",
    "            R = 0; policy_loss = []; rewards = []\n",
    "            for r in batch.rewards[episode][::-1]: # compute the discarded award at each time step\n",
    "                R = r + gamma * R\n",
    "                rewards.insert(0, R)\n",
    "            episode_discounted_rewards = torch.tensor(rewards).float() #size=B\n",
    "            episode_next_actions = self.select_action(episode_next_states) #size=B\n",
    "            Q = self.forward_Q_a(episode_states).gather(dim=1,index=episode_actions.unsqueeze(1)) # Qv(a|s), size=B x 1\n",
    "            Q_target = episode_rewards.unsqueeze(1) + gamma *  \\\n",
    "                self.forward_Q_a(episode_next_states).gather(dim=1,index=episode_next_actions.unsqueeze(1)) * episode_dones.unsqueeze(1)\n",
    "            Q_state = self.forward_Q_s(episode_states)\n",
    "            logP = torch.log( actorcritic_net.forward_policy(episode_states).gather(dim=1,index=episode_actions.unsqueeze(1)) )\n",
    "            loss1 = ( -logP * (Q-Q_state).detach() ).mean()\n",
    "            loss2 = nn.MSELoss()(Q,Q_target.detach())\n",
    "            loss3 = nn.MSELoss()(Q_state,episode_discounted_rewards.unsqueeze(1).detach())\n",
    "            loss = loss1 + loss2 + loss3\n",
    "            batch_losses.append(loss)\n",
    "        loss = torch.stack(batch_losses).mean()\n",
    "        return loss\n",
    "\n",
    "        \n",
    "# class of rollout episodes\n",
    "class Rollout_Episodes():\n",
    "    \n",
    "    def __init__(self,):\n",
    "        super(Rollout_Episodes, self).__init__()\n",
    "    \n",
    "    def rollout_batch_episodes(self, env, opt_parameters, actorcritic_net, write_memory=True):\n",
    "        # storage structure of all episodes (w/ different lengths)\n",
    "        nb_episodes_per_batch = opt_parameters['nb_episodes_per_batch']\n",
    "        env_seeds = opt_parameters['env_seed']\n",
    "        batch = DotDict()\n",
    "        batch.states=[];  batch.actions=[]; batch.next_states=[]; batch.rewards=[]; batch.dones=[]\n",
    "        batch_episode_lengths = []\n",
    "        for episode in range(nb_episodes_per_batch):\n",
    "            states=[]; actions=[]; next_states=[]; rewards=[]; dones = []\n",
    "            env.seed(env_seeds[episode].item()) # start with random seed\n",
    "            state = env.reset() # reset environment\n",
    "            for t in range(1000): # rollout one episode \n",
    "                state_pytorch = torch.from_numpy(state).float().unsqueeze(0) # state=s\n",
    "                action = actorcritic_net.select_action(state_pytorch).item() # select action=a from state=s\n",
    "                next_state, reward, done, _ = env.step(action) # receive next state=s' and reward=r\n",
    "                done_mask = 0.0 if done else 1.0\n",
    "                states.append(torch.tensor(state))\n",
    "                actions.append(torch.tensor(action))\n",
    "                next_states.append(torch.tensor(next_state))\n",
    "                rewards.append(torch.tensor(reward))\n",
    "                dones.append(torch.tensor(done_mask))\n",
    "                state = next_state\n",
    "                if done:\n",
    "                    batch_episode_lengths.append(t)\n",
    "                    break\n",
    "            batch.states.append(states)\n",
    "            batch.actions.append(actions)\n",
    "            batch.next_states.append(next_states)\n",
    "            batch.rewards.append(rewards)\n",
    "            batch.dones.append(dones)\n",
    "        return batch_episode_lengths, batch\n",
    "\n",
    "        \n",
    "    \n",
    "# network parameters\n",
    "net_parameters = {}\n",
    "net_parameters['input_dim'] = 4\n",
    "net_parameters['hidden_dim'] = 128\n",
    "net_parameters['output_dim'] = 2\n",
    "\n",
    "# instantiate network\n",
    "actorcritic_net = ActorCritic_NN(net_parameters)\n",
    "print(actorcritic_net)\n",
    "\n",
    "# instantiate rollout\n",
    "rollout_policy_net = Rollout_Episodes()\n",
    "\n",
    "# optimization parameters\n",
    "opt_parameters = {}\n",
    "opt_parameters['nb_episodes_per_batch'] = 3\n",
    "opt_parameters['env_seed'] = torch.LongTensor(opt_parameters['nb_episodes_per_batch']).random_(1,10000)\n",
    "\n",
    "env = gym.make('CartPole-v0')\n",
    "\n",
    "batch_episode_lengths, batch = rollout_policy_net.rollout_batch_episodes(env, opt_parameters, actorcritic_net)\n",
    "#print('batch:',batch)\n",
    "print('batch_episode_lengths:',batch_episode_lengths)\n"
   ]
  },
  {
   "cell_type": "markdown",
   "metadata": {},
   "source": [
    "# Test forward pass"
   ]
  },
  {
   "cell_type": "code",
   "execution_count": 5,
   "metadata": {},
   "outputs": [
    {
     "name": "stdout",
     "output_type": "stream",
     "text": [
      "batch_episode_lengths: [28, 16, 11]\n"
     ]
    }
   ],
   "source": [
    "\n",
    "# optimization parameters\n",
    "opt_parameters = {}\n",
    "opt_parameters['lr'] = 0.001\n",
    "opt_parameters['nb_episodes_per_batch'] = 3\n",
    "opt_parameters['env_seed'] = torch.LongTensor(opt_parameters['nb_episodes_per_batch']).random_(1,10000)\n",
    "opt_parameters['gamma'] = 0.99\n",
    "\n",
    "batch_episode_lengths, batch = rollout_policy_net.rollout_batch_episodes(env, opt_parameters, actorcritic_net)\n",
    "#print('batch:',batch)\n",
    "print('batch_episode_lengths:',batch_episode_lengths)\n"
   ]
  },
  {
   "cell_type": "markdown",
   "metadata": {},
   "source": [
    "# Test backward pass"
   ]
  },
  {
   "cell_type": "code",
   "execution_count": 6,
   "metadata": {},
   "outputs": [
    {
     "name": "stdout",
     "output_type": "stream",
     "text": [
      "loss: tensor(127.6170, grad_fn=<MeanBackward0>)\n"
     ]
    }
   ],
   "source": [
    "\n",
    "# Loss\n",
    "loss = actorcritic_net.loss(batch)\n",
    "print('loss:',loss)\n",
    "\n",
    "# Backward pass\n",
    "lr = opt_parameters['lr']\n",
    "optimizer = torch.optim.Adam(actorcritic_net.parameters(), lr=lr)\n",
    "optimizer.zero_grad()\n",
    "loss.backward()\n",
    "optimizer.step()\n"
   ]
  },
  {
   "cell_type": "markdown",
   "metadata": {},
   "source": [
    "# Train one epoch"
   ]
  },
  {
   "cell_type": "code",
   "execution_count": 7,
   "metadata": {},
   "outputs": [],
   "source": [
    "\n",
    "def train_one_epoch(env, actorcritic_net, opt_parameters):\n",
    "    \"\"\"\n",
    "    train one epoch\n",
    "    \"\"\"\n",
    "    actorcritic_net.train()\n",
    "    epoch_loss = 0\n",
    "    nb_data = 0\n",
    "    epoch_episode_length = 0\n",
    "    epoch_episode_lengths = []\n",
    "    nb_batches_per_epoch = opt_parameters['nb_batches_per_epoch']\n",
    "    for iter in range(nb_batches_per_epoch):\n",
    "        batch_episode_lengths, batch = \\\n",
    "            rollout_policy_net.rollout_batch_episodes(env, opt_parameters, actorcritic_net)\n",
    "        loss = actorcritic_net.loss(batch)\n",
    "        optimizer.zero_grad()\n",
    "        loss.backward()\n",
    "        optimizer.step()\n",
    "        epoch_loss += loss.detach().item()\n",
    "        nb_data += len(batch_episode_lengths)\n",
    "        epoch_episode_length += torch.tensor(batch_episode_lengths).float().sum()\n",
    "        epoch_episode_lengths.append(epoch_episode_length)\n",
    "    epoch_loss /= nb_data\n",
    "    epoch_episode_length /= nb_data\n",
    "    return epoch_loss, epoch_episode_length, epoch_episode_lengths\n",
    "\n"
   ]
  },
  {
   "cell_type": "markdown",
   "metadata": {},
   "source": [
    "# Train NN"
   ]
  },
  {
   "cell_type": "code",
   "execution_count": 8,
   "metadata": {},
   "outputs": [
    {
     "name": "stdout",
     "output_type": "stream",
     "text": [
      "Training done.\n",
      "Last episode length is 395.17999267578125, epoch is 63\n"
     ]
    }
   ],
   "source": [
    "\n",
    "# network parameters\n",
    "net_parameters = {}\n",
    "net_parameters['input_dim'] = 4\n",
    "net_parameters['hidden_dim'] = 256\n",
    "net_parameters['output_dim'] = 2\n",
    "\n",
    "# instantiate network\n",
    "actorcritic_net = ActorCritic_NN(net_parameters)\n",
    "print(actorcritic_net)\n",
    "\n",
    "# optimization parameters\n",
    "opt_parameters = {}\n",
    "opt_parameters['lr'] = 0.0005\n",
    "opt_parameters['nb_episodes_per_batch'] = 1\n",
    "opt_parameters['nb_batches_per_epoch'] = 50\n",
    "opt_parameters['env_seed'] = torch.LongTensor(opt_parameters['nb_episodes_per_batch']).random_(1,10000)\n",
    "opt_parameters['gamma'] = 0.99\n",
    "\n",
    "optimizer = torch.optim.Adam(actorcritic_net.parameters(), lr=opt_parameters['lr'] )\n",
    "\n",
    "# select maximum episode length to learn\n",
    "env = gym.make('CartPole-v0')\n",
    "env._max_episode_steps = 400 # 200 400\n",
    "env.spec.reward_threshold = 0.975* env._max_episode_steps\n",
    "print('env._max_episode_steps',env._max_episode_steps)\n",
    "\n",
    "# train loop\n",
    "all_epoch_lengths = []\n",
    "start = time.time()\n",
    "for epoch in range(500): \n",
    "    \n",
    "    # train one epoch\n",
    "    epoch_train_loss, epoch_episode_length, epoch_episode_lengths = train_one_epoch(env, actorcritic_net, opt_parameters)\n",
    " \n",
    "    # stop training when reward is high\n",
    "    if epoch_episode_length > env.spec.reward_threshold:\n",
    "        print('Training done.')\n",
    "        print(\"Last episode length is {}, epoch is {}\".\n",
    "              format(epoch_episode_length, epoch))\n",
    "        break\n",
    "\n",
    "    # print intermediate info\n",
    "    if not epoch%1:\n",
    "        print('Epoch: {}, time: {:.4f}, train_loss: {:.4f}, episode_length: {:.4f}'.format(epoch, time.time()-start, epoch_train_loss, epoch_episode_length))\n",
    "        \n",
    "    # plot all epochs\n",
    "    all_epoch_lengths.append(epoch_episode_length)\n",
    "    if not epoch%1:\n",
    "        plt.figure(2)\n",
    "        plt.title('Training...')\n",
    "        plt.xlabel('Epochs')\n",
    "        plt.ylabel('Length of episodes batch')\n",
    "        plt.plot(torch.Tensor(all_epoch_lengths).numpy())\n",
    "        plt.pause(0.001)\n",
    "        display.clear_output(wait=True)\n"
   ]
  },
  {
   "cell_type": "code",
   "execution_count": 9,
   "metadata": {},
   "outputs": [
    {
     "name": "stdout",
     "output_type": "stream",
     "text": [
      "Last episode length is 395.17999267578125, epoch is 63\n"
     ]
    },
    {
     "data": {
      "image/png": "[encoded data removed]",
      "text/plain": [
       "<Figure size 432x288 with 1 Axes>"
      ]
     },
     "metadata": {
      "needs_background": "light"
     },
     "output_type": "display_data"
    }
   ],
   "source": [
    "# Final plot\n",
    "plt.figure(2)\n",
    "plt.title('Training...')\n",
    "plt.xlabel('Epochs')\n",
    "plt.ylabel('Length of episodes batch')\n",
    "plt.plot(torch.Tensor(all_epoch_lengths).numpy())\n",
    "print(\"Last episode length is {}, epoch is {}\".format(epoch_episode_length, epoch))\n",
    "       "
   ]
  },
  {
   "cell_type": "markdown",
   "metadata": {},
   "source": [
    "# Run it longer"
   ]
  },
  {
   "cell_type": "code",
   "execution_count": 10,
   "metadata": {},
   "outputs": [
    {
     "name": "stdout",
     "output_type": "stream",
     "text": [
      "2133\n"
     ]
    }
   ],
   "source": [
    "\n",
    "env._max_episode_steps = 5000\n",
    "\n",
    "state = env.reset() # reset environment\n",
    "for t in range(env._max_episode_steps): # rollout one episode until it finishes or stop after 200 steps\n",
    "    state_pytorch = torch.from_numpy(state).float().unsqueeze(0) # state=s\n",
    "    action = actorcritic_net.eval().select_action(state_pytorch).item()\n",
    "    state, reward, done, _ = env.step(action) # receive next state=s' and reward=r\n",
    "    env.render() # visualize state\n",
    "    if done:\n",
    "        print(t)\n",
    "        break\n",
    "        "
   ]
  },
  {
   "cell_type": "code",
   "execution_count": null,
   "metadata": {},
   "outputs": [],
   "source": []
  }
 ],
 "metadata": {
  "kernelspec": {
   "display_name": "Python 3",
   "language": "python",
   "name": "python3"
  },
  "language_info": {
   "codemirror_mode": {
    "name": "ipython",
    "version": 3
   },
   "file_extension": ".py",
   "mimetype": "text/x-python",
   "name": "python",
   "nbconvert_exporter": "python",
   "pygments_lexer": "ipython3",
   "version": "3.6.9"
  }
 },
 "nbformat": 4,
 "nbformat_minor": 4
}
